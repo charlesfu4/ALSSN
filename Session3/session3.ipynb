{
 "cells": [
  {
   "cell_type": "markdown",
   "metadata": {},
   "source": [
    "# Session3\n"
   ]
  },
  {
   "cell_type": "markdown",
   "metadata": {},
   "source": [
    "### Perprocessing\n",
    "\n",
    "- Create a notebook and log all the command and output. Provide all answers inside the notebook\n",
    "- Read data in gml-format in iGraph\n",
    "- Check if the network is undirected/directed and weighted/unweighted\n",
    "- Calculate degree and plot degree distribution\n",
    "- Check if the network is connected\n",
    "- Identify the largest connected component\n",
    "- Retain only this largest component\n",
    "- Calculate degree and plot degree distribution again.\n",
    "- Save new network in gml and pajek format\n",
    "- Save the label list (author names)"
   ]
  },
  {
   "cell_type": "code",
   "execution_count": 2,
   "metadata": {},
   "outputs": [],
   "source": [
    "# Import of required libraries and packages\n",
    "import igraph as ig\n",
    "from matplotlib import pyplot as plt\n",
    "import numpy as np\n",
    "\n",
    "\n",
    "\n",
    "def get_attributes(g):\n",
    "    print(\"Attribute of node: %s. Attribute of edge: %s\"%(g.vs.attribute_names(), g.es.attribute_names()))\n",
    "    print(\"Number of nodes: %d. Number of edges: %d\" %(g.vcount(), g.ecount()))\n",
    "    print(\"Fully connected: Lmax = %d. \"%(g.vcount()*(g.vcount()-1)/2))\n",
    "    print(\"Desity: %f\" %(g.ecount()/(g.vcount()*(g.vcount()-1)/2)))\n",
    "\n",
    "def plot_dist(g):\n",
    "    print(max(g.degree()))\n",
    "    hist,bins=np.histogram(g.degree(),bins=np.linspace(0,20,20))\n",
    "    print(hist)\n",
    "    print(bins) \n",
    "    fig, ax = plt.subplots(figsize=(16, 7))\n",
    "    ax.plot(bins[1:],hist)\n",
    "    ax.set_xlabel('Degree')  # Add an x-label to the axes.\n",
    "    ax.set_ylabel('Counts')  # Add a y-label to the axes.\n",
    "    ax.set_title(\"Distribution of degree\")  # Add a title to the axes.\n",
    "\n",
    "def degree_betweenness(g):\n",
    "    print(\"Betweeness: minimum: % .2f, maximum: % .4f\" %(min(betweenness),max(betweenness)))\n",
    "    print(\"Number of degrees calculated : % 2d, minimum : % 2d, maximim : % 2d\" %(len(degree), min(degree), max(degree)))\n",
    "    print(\"Average path length: % .2f\" %g.average_path_length())\n",
    "    ## closeness of nodes\n",
    "    cls = g.closeness()\n",
    "    # Local clustering coefficient: transitivity coefficient, measure the porbablity that two points are connected(degree existing or not)\n",
    "    trans = g.transitivity_local_undirected()\n",
    "    #print(trans)\n",
    "    fig = plt.figure(figsize=(16, 7))\n",
    "    plt.scatter(degree, betweenness, marker='^', c = \"g\")\n",
    "    plt.xlabel(\"Degree\")\n",
    "    plt.ylabel(\"Betweenness\")\n",
    "    plt.show()\n",
    "    \n",
    "def plot_graph(elecnet, max_d = -1, max_e = -1):\n",
    "    \n",
    "    vcolor = [\"gold\"]*elecnet.vcount()\n",
    "    vsize = [8]*elecnet.vcount()\n",
    "    vlsize = [3]*elecnet.vcount()\n",
    "\n",
    "    if(max_d != -1):\n",
    "        vcolor[max_d] = \"green\"\n",
    "        vsize[max_d] = 25\n",
    "        vlsize[max_d] = 10\n",
    "    if(max_e != -1):    \n",
    "        vcolor[max_e] = \"blue\"\n",
    "        vsize[max_e] = 25\n",
    "        vlsize[max_e] = 10\n",
    "\n",
    "\n",
    "    #Define style from network plotting\n",
    "    visual_style = {}\n",
    "    visual_style[\"vertex_size\"] = vsize\n",
    "    visual_style[\"vertex_label_size\"]= vlsize\n",
    "    visual_style[\"vertex_color\"] = vcolor\n",
    "    visual_style[\"vertex_label\"] = elecnet.vs[\"id\"]\n",
    "    visual_style[\"edge_width\"] = 1\n",
    "    visual_style[\"layout\"] = layout\n",
    "    visual_style[\"bbox\"] = (600, 600)\n",
    "    visual_style[\"margin\"] = 30\n",
    "\n",
    "    return ig.plot(elecnet, \"graph.svg\", **visual_style)\n",
    "\n",
    "def drop(graph, num_drop, typ):\n",
    "    drop = []\n",
    "    num_cluster = []\n",
    "    for i in range(num_drop):\n",
    "        if(typ == \"d\"):\n",
    "            max_item = max(graph.degree())\n",
    "            drop.append(str([graph.vs[idx] for idx, item in enumerate(graph.degree()) if(item == max_item)]).split(',')[1])\n",
    "        elif(typ == \"b\"):\n",
    "            max_item = max(graph.betweenness())\n",
    "            drop.append(str([graph.vs[idx] for idx, item in enumerate(graph.betweenness()) if(item == max_item)]).split(',')[1])\n",
    "        graph.delete_vertices(int(drop[i]))\n",
    "        num_cluster.append(len(graph.clusters()))\n",
    "    return num_cluster\n",
    "    \n"
   ]
  },
  {
   "cell_type": "code",
   "execution_count": 2,
   "metadata": {},
   "outputs": [
    {
     "name": "stdout",
     "output_type": "stream",
     "text": [
      "cond-mat-2005/cond-mat-2005.gml\n",
      "IGRAPH U--- 40421 175692 -- \n",
      "+ attr: id (v), label (v), value (e)\n"
     ]
    }
   ],
   "source": [
    "#filename = easygui.fileopenbox()\n",
    "filename = \"cond-mat-2005/cond-mat-2005.gml\"\n",
    "print(filename)\n",
    "\n",
    "cond_mat = ig.Graph.Read_GML(filename)\n",
    "\n",
    "ig.summary(cond_mat)"
   ]
  },
  {
   "cell_type": "code",
   "execution_count": 6,
   "metadata": {
    "scrolled": false
   },
   "outputs": [
    {
     "data": {
      "text/plain": [
       "False"
      ]
     },
     "execution_count": 6,
     "metadata": {},
     "output_type": "execute_result"
    }
   ],
   "source": [
    "#check if the graph is weighted graph\n",
    "cond_mat.is_weighted()"
   ]
  },
  {
   "cell_type": "markdown",
   "metadata": {},
   "source": [
    "**Calculate number of nodes, number of edges, density**"
   ]
  },
  {
   "cell_type": "code",
   "execution_count": 7,
   "metadata": {
    "scrolled": true
   },
   "outputs": [
    {
     "name": "stdout",
     "output_type": "stream",
     "text": [
      "Attribute of node: ['id', 'label']. Attribute of edge: ['value']\n",
      "Number of nodes: 40421. Number of edges: 175692\n",
      "Fully connected: Lmax = 816908410. \n",
      "Desity: 0.000215\n"
     ]
    }
   ],
   "source": [
    "# Get the attributes and the number of nodes\n",
    "get_attributes(cond_mat)"
   ]
  },
  {
   "cell_type": "code",
   "execution_count": 18,
   "metadata": {},
   "outputs": [],
   "source": [
    "degree = cond_mat.degree()"
   ]
  },
  {
   "cell_type": "code",
   "execution_count": 15,
   "metadata": {},
   "outputs": [],
   "source": [
    "betweenness = cond_mat.betweenness(weights = None)"
   ]
  },
  {
   "cell_type": "markdown",
   "metadata": {},
   "source": [
    "**Calculate degree and plot degree distribution**\n",
    "\n",
    "**Describe degree distribution properties**\n",
    "\n",
    "- Degree distribution of Power plants network are mostly low (within 10), only a few of them have higher degree"
   ]
  },
  {
   "cell_type": "code",
   "execution_count": 8,
   "metadata": {
    "scrolled": true
   },
   "outputs": [
    {
     "name": "stdout",
     "output_type": "stream",
     "text": [
      "278\n",
      "[4633 5242 4956 4061 3226 2722 2223 1724 1383 1228  931  819  677  626\n",
      "  489  454  390  389  612]\n",
      "[ 0.          1.05263158  2.10526316  3.15789474  4.21052632  5.26315789\n",
      "  6.31578947  7.36842105  8.42105263  9.47368421 10.52631579 11.57894737\n",
      " 12.63157895 13.68421053 14.73684211 15.78947368 16.84210526 17.89473684\n",
      " 18.94736842 20.        ]\n"
     ]
    },
    {
     "data": {
      "image/png": "[encoded data removed]",
      "text/plain": [
       "<Figure size 1152x504 with 1 Axes>"
      ]
     },
     "metadata": {
      "needs_background": "light"
     },
     "output_type": "display_data"
    }
   ],
   "source": [
    "plot_dist(cond_mat)"
   ]
  },
  {
   "cell_type": "markdown",
   "metadata": {},
   "source": [
    "**Check the network connectivity**"
   ]
  },
  {
   "cell_type": "code",
   "execution_count": 25,
   "metadata": {},
   "outputs": [
    {
     "data": {
      "text/plain": [
       "False"
      ]
     },
     "execution_count": 25,
     "metadata": {},
     "output_type": "execute_result"
    }
   ],
   "source": [
    "cond_mat.is_connected(mode = 'weak')"
   ]
  },
  {
   "cell_type": "markdown",
   "metadata": {},
   "source": [
    "**Identify the largest connected component**\n",
    "**Retain only this largest component**\n"
   ]
  },
  {
   "cell_type": "code",
   "execution_count": 41,
   "metadata": {},
   "outputs": [],
   "source": [
    "largest = cond_mat.components().giant()\n"
   ]
  },
  {
   "cell_type": "markdown",
   "metadata": {},
   "source": [
    "**Calculate the degrees and plot the distribution again**"
   ]
  },
  {
   "cell_type": "code",
   "execution_count": 46,
   "metadata": {},
   "outputs": [
    {
     "name": "stdout",
     "output_type": "stream",
     "text": [
      "278\n",
      "[2643 4411 4474 3758 3096 2610 2177 1707 1362 1223  929  817  675  626\n",
      "  488  454  390  370  612]\n",
      "[ 0.          1.05263158  2.10526316  3.15789474  4.21052632  5.26315789\n",
      "  6.31578947  7.36842105  8.42105263  9.47368421 10.52631579 11.57894737\n",
      " 12.63157895 13.68421053 14.73684211 15.78947368 16.84210526 17.89473684\n",
      " 18.94736842 20.        ]\n"
     ]
    },
    {
     "data": {
      "image/png": "[encoded data removed]",
      "text/plain": [
       "<Figure size 1152x504 with 1 Axes>"
      ]
     },
     "metadata": {
      "needs_background": "light"
     },
     "output_type": "display_data"
    }
   ],
   "source": [
    "plot_dist(largest)"
   ]
  },
  {
   "cell_type": "markdown",
   "metadata": {},
   "source": [
    "**Save new network in glm and pajeck format**"
   ]
  },
  {
   "cell_type": "code",
   "execution_count": 48,
   "metadata": {},
   "outputs": [],
   "source": [
    "largest.write_pajek('cond-mat-2005/largest.net')\n",
    "largest.write_gml('cond-mat-2005/largest.gml')"
   ]
  },
  {
   "cell_type": "markdown",
   "metadata": {},
   "source": [
    "**Save the label list**"
   ]
  },
  {
   "cell_type": "code",
   "execution_count": 64,
   "metadata": {},
   "outputs": [],
   "source": [
    "with open('cond-mat-2005//label_list.txt', 'w') as f: \n",
    "    for line in largest.vs['label']:\n",
    "        f.write(line+'\\n') \n"
   ]
  },
  {
   "cell_type": "markdown",
   "metadata": {},
   "source": [
    "### Clustering & Visualization:\n",
    "\n",
    "- Run the Fast-Greedy community detection algorithm from the igraph packages on the reduced network\n",
    "- Calculate modularity scores for each cluster solution\n",
    "- Visualize the  network with nodes in different colour according to their cluster membership"
   ]
  },
  {
   "cell_type": "code",
   "execution_count": 3,
   "metadata": {},
   "outputs": [
    {
     "name": "stdout",
     "output_type": "stream",
     "text": [
      "cond-mat-2005/largest.gml\n",
      "IGRAPH U--- 36458 171735 -- \n",
      "+ attr: id (v), label (v), value (e)\n"
     ]
    }
   ],
   "source": [
    "#filename = easygui.fileopenbox()\n",
    "filename = \"cond-mat-2005/largest.gml\"\n",
    "print(filename)\n",
    "\n",
    "cond_mat = ig.Graph.Read_GML(filename)\n",
    "\n",
    "ig.summary(cond_mat)"
   ]
  },
  {
   "cell_type": "markdown",
   "metadata": {},
   "source": [
    "**Run the Fast-Greedy community detection algorithm from the igraph packages on the reduced network**"
   ]
  },
  {
   "cell_type": "code",
   "execution_count": 4,
   "metadata": {},
   "outputs": [],
   "source": [
    "fastgreedy = cond_mat.community_fastgreedy()"
   ]
  },
  {
   "cell_type": "markdown",
   "metadata": {},
   "source": [
    "**Calculate modularity scores for each cluster solution**"
   ]
  },
  {
   "cell_type": "code",
   "execution_count": 13,
   "metadata": {
    "collapsed": true
   },
   "outputs": [
    {
     "name": "stdout",
     "output_type": "stream",
     "text": [
      "1 0.0\n",
      "2 0.38049201533145754\n",
      "3 0.5100801168393344\n",
      "4 0.5663670273658117\n",
      "5 0.5877178670318893\n",
      "6 0.5949673450036754\n",
      "7 0.5990139680425518\n",
      "8 0.6011755792743236\n",
      "9 0.6024401226752792\n",
      "10 0.6036069993835272\n",
      "11 0.604400515615783\n",
      "12 0.6049713857968386\n",
      "13 0.6055269643706381\n",
      "14 0.6060058680255248\n",
      "15 0.6063851165606701\n",
      "16 0.606749027070624\n",
      "17 0.6070971060469501\n",
      "18 0.6073838597086093\n",
      "19 0.6076632021145348\n",
      "20 0.6079329788147418\n",
      "21 0.6081747479363919\n",
      "22 0.6084096682934248\n",
      "23 0.6086230778366669\n",
      "24 0.6088276354050445\n",
      "25 0.6090177867314891\n",
      "26 0.6092078155369629\n",
      "27 0.6093921343430262\n",
      "28 0.6095351348461243\n",
      "29 0.6096709193268502\n",
      "30 0.6098056988711432\n",
      "31 0.6099325901298035\n",
      "32 0.6100577426824623\n",
      "33 0.610181433154924\n",
      "34 0.6102989283757604\n",
      "35 0.6104130427840818\n",
      "36 0.6105240211505784\n",
      "37 0.6106324505315925\n",
      "38 0.6107390882277712\n",
      "39 0.6108441622939234\n",
      "40 0.6109485245618893\n",
      "41 0.611052076702953\n",
      "42 0.6111528147609249\n",
      "43 0.6112470152646664\n",
      "44 0.6113404914926467\n",
      "45 0.6114307447935146\n",
      "46 0.611520035947894\n",
      "47 0.6116041436192318\n",
      "48 0.6116860582211334\n",
      "49 0.611761676055487\n",
      "50 0.6118355497418536\n",
      "51 0.6119082031858052\n",
      "52 0.6119780704008165\n",
      "53 0.6120456134979475\n",
      "54 0.6121128157165444\n",
      "55 0.6121789813131272\n",
      "56 0.6122447476273092\n",
      "57 0.6123104670827719\n",
      "58 0.6123745941555351\n",
      "59 0.612437156648891\n",
      "60 0.6124978309935505\n",
      "61 0.6125572030591296\n",
      "62 0.6126160015800883\n",
      "63 0.6126742437469989\n",
      "64 0.6127311881782939\n",
      "65 0.6127876557153151\n",
      "66 0.6128430701348326\n",
      "67 0.6128984660922859\n",
      "68 0.6129510250797908\n",
      "69 0.6130018899143749\n",
      "70 0.6130527493917394\n",
      "71 0.6131035198138027\n",
      "72 0.6131540958332129\n",
      "73 0.6132033706246429\n",
      "74 0.6132510133289159\n",
      "75 0.6132980541766794\n",
      "76 0.6133429525942956\n",
      "77 0.6133875540422357\n",
      "78 0.6134319844490691\n",
      "79 0.6134756053223632\n",
      "80 0.6135182464856261\n",
      "81 0.6135602589554214\n",
      "82 0.6136015018843395\n",
      "83 0.6136427350481989\n",
      "84 0.6136832982713897\n",
      "85 0.6137232989865108\n",
      "86 0.6137632789339288\n",
      "87 0.6138032381136439\n",
      "88 0.6138419209018563\n",
      "89 0.6138802872072283\n",
      "90 0.6139179985077244\n",
      "91 0.6139555709273855\n",
      "92 0.6139931327512796\n",
      "93 0.6140305725967061\n",
      "94 0.6140678736969233\n",
      "95 0.6141051563350765\n",
      "96 0.6141414481079749\n",
      "97 0.6141776025597353\n",
      "98 0.6142135967695945\n",
      "99 0.614249528693298\n"
     ]
    }
   ],
   "source": [
    "for i in range(1,100):\n",
    "    cluster = fastgreedy.as_clustering(i)\n",
    "    print(i, cond_mat.modularity(cluster))\n"
   ]
  },
  {
   "cell_type": "code",
   "execution_count": 14,
   "metadata": {},
   "outputs": [],
   "source": [
    "cluster_best = fastgreedy.as_clustering()"
   ]
  },
  {
   "cell_type": "markdown",
   "metadata": {},
   "source": [
    "**Visualize the  network with nodes in different colour according to their cluster membership**"
   ]
  },
  {
   "cell_type": "code",
   "execution_count": null,
   "metadata": {},
   "outputs": [],
   "source": [
    "# try cluster_best\n",
    "color_list = ig.drawing.colors.ClusterColoringPalette(500) \n",
    "ig.plot(cond_mat, \"fastgreedy.svg\", layout=cond_mat.layout(\"drl\"), \n",
    "     vertex_color=[color_list[x] for x in cluster_best.membership],\n",
    "       vertex_size = 15,\n",
    "       vertex_label_size = 5)"
   ]
  },
  {
   "cell_type": "markdown",
   "metadata": {},
   "source": [
    "### Compare cluster solution:\n",
    "\n",
    "- Run two other algorithms: Leading Eigenvector (= Newman), MultiLevel (= Louvain Method)\n",
    "- Compare the number of obtained clusters and modularity scores.\n",
    "- Try different visualization layouts, which combination cluster algorithm-layout provides the most appealing results?Is this the best clustering?\n",
    "- Use the 'compare_communities()' function from iGraph. Discuss the different possible measure and try to interprete the result of the pairwise comparison."
   ]
  },
  {
   "cell_type": "code",
   "execution_count": 5,
   "metadata": {},
   "outputs": [
    {
     "data": {
      "text/plain": [
       "'Clustering with 36458 elements and 3 clusters'"
      ]
     },
     "execution_count": 5,
     "metadata": {},
     "output_type": "execute_result"
    }
   ],
   "source": [
    "le = cond_mat.community_leading_eigenvector()\n",
    "le.summary()"
   ]
  },
  {
   "cell_type": "code",
   "execution_count": 59,
   "metadata": {},
   "outputs": [
    {
     "name": "stdout",
     "output_type": "stream",
     "text": [
      "0.3275404242851386\n"
     ]
    }
   ],
   "source": [
    "print(cond_mat.modularity(le))"
   ]
  },
  {
   "cell_type": "code",
   "execution_count": 6,
   "metadata": {},
   "outputs": [
    {
     "data": {
      "text/plain": [
       "'Clustering with 36458 elements and 89 clusters'"
      ]
     },
     "execution_count": 6,
     "metadata": {},
     "output_type": "execute_result"
    }
   ],
   "source": [
    "mul = cond_mat.community_multilevel()\n",
    "mul.summary()"
   ]
  },
  {
   "cell_type": "code",
   "execution_count": 60,
   "metadata": {},
   "outputs": [
    {
     "name": "stdout",
     "output_type": "stream",
     "text": [
      "0.7157336578845533\n"
     ]
    }
   ],
   "source": [
    "print(cond_mat.modularity(mul))"
   ]
  },
  {
   "cell_type": "markdown",
   "metadata": {},
   "source": [
    "**Use the 'compare_communities()' function from iGraph. Discuss the different possible measure and try to interprete the result of the pairwise comparison.**"
   ]
  },
  {
   "cell_type": "code",
   "execution_count": 8,
   "metadata": {},
   "outputs": [
    {
     "data": {
      "text/plain": [
       "3.73704108235182"
      ]
     },
     "execution_count": 8,
     "metadata": {},
     "output_type": "execute_result"
    }
   ],
   "source": [
    "#variation of information metric\n",
    "ig.compare_communities(le, mul, method ='vi')"
   ]
  },
  {
   "cell_type": "code",
   "execution_count": 10,
   "metadata": {},
   "outputs": [
    {
     "data": {
      "text/plain": [
       "0.09219514349571033"
      ]
     },
     "execution_count": 10,
     "metadata": {},
     "output_type": "execute_result"
    }
   ],
   "source": [
    "# normalized mutual information\n",
    "ig.compare_communities(le, mul, method ='nmi')"
   ]
  },
  {
   "cell_type": "code",
   "execution_count": 11,
   "metadata": {},
   "outputs": [
    {
     "data": {
      "text/plain": [
       "36307.0"
      ]
     },
     "execution_count": 11,
     "metadata": {},
     "output_type": "execute_result"
    }
   ],
   "source": [
    "# normalized mutual information\n",
    "ig.compare_communities(le, mul, method ='split-join')"
   ]
  },
  {
   "cell_type": "code",
   "execution_count": 12,
   "metadata": {},
   "outputs": [
    {
     "data": {
      "text/plain": [
       "0.0022993369838795806"
      ]
     },
     "execution_count": 12,
     "metadata": {},
     "output_type": "execute_result"
    }
   ],
   "source": [
    "# normalized mutual information\n",
    "ig.compare_communities(le, mul, method ='adjusted_rand')"
   ]
  }
 ],
 "metadata": {
  "kernelspec": {
   "display_name": "ALSSN",
   "language": "python",
   "name": "alssn"
  },
  "language_info": {
   "codemirror_mode": {
    "name": "ipython",
    "version": 3
   },
   "file_extension": ".py",
   "mimetype": "text/x-python",
   "name": "python",
   "nbconvert_exporter": "python",
   "pygments_lexer": "ipython3",
   "version": "3.7.0"
  }
 },
 "nbformat": 4,
 "nbformat_minor": 2
}
